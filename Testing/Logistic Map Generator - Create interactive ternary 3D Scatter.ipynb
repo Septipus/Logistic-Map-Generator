{
 "cells": [
  {
   "cell_type": "code",
   "execution_count": 1,
   "metadata": {},
   "outputs": [],
   "source": [
    "import os\n",
    "from itertools import cycle\n",
    "\n",
    "import numpy as np\n",
    "\n",
    "from tqdm import tqdm\n",
    "\n",
    "from pprint import pprint\n",
    "import plotly as py\n",
    "import plotly.graph_objects as go"
   ]
  },
  {
   "cell_type": "code",
   "execution_count": 2,
   "metadata": {},
   "outputs": [
    {
     "name": "stdout",
     "output_type": "stream",
     "text": [
      "Saving to visualisations dir: C:\\Users\\subst\\Projects\\GitBase\\Logistic-Map-Generator\\visualisations\n"
     ]
    }
   ],
   "source": [
    "os.chdir('../')\n",
    "if not os.path.exists('visualisations'):\n",
    "    os.mkdir('visualisations')\n",
    "\n",
    "visualisations_dir = os.getcwd() + '\\\\visualisations'\n",
    "print(f'Saving to visualisations dir: {visualisations_dir}')\n",
    "from Logistic_Map_Generator import LogisticMapGenerator"
   ]
  },
  {
   "cell_type": "code",
   "execution_count": 3,
   "metadata": {},
   "outputs": [],
   "source": [
    "output_file = visualisations_dir + '\\\\3D Ternary Scatter Plot [t=0, t=+1, t=+2] of Logistic Map.html'"
   ]
  },
  {
   "cell_type": "code",
   "execution_count": 4,
   "metadata": {},
   "outputs": [],
   "source": [
    "def ternary_to_cartesian(weights):\n",
    "    w_a, w_b, w_c = weights\n",
    "    assert(sum(weights) - 1.0 < 1e-6)\n",
    "    \n",
    "    x_coord = w_a + w_b/2.\n",
    "    y_coord = w_b * np.sqrt(3.)/2.\n",
    "\n",
    "    return x_coord, y_coord"
   ]
  },
  {
   "cell_type": "code",
   "execution_count": 5,
   "metadata": {
    "scrolled": true
   },
   "outputs": [
    {
     "data": {
      "text/plain": [
       "(0.5, 0.8660254037844386)"
      ]
     },
     "execution_count": 5,
     "metadata": {},
     "output_type": "execute_result"
    }
   ],
   "source": [
    "ternary_to_cartesian([0,1,0])"
   ]
  },
  {
   "cell_type": "code",
   "execution_count": 6,
   "metadata": {},
   "outputs": [
    {
     "name": "stderr",
     "output_type": "stream",
     "text": [
      "100%|████████████████████████████████████████████████████████████████████████████████| 366/366 [15:42<00:00,  2.57s/it]\n",
      "100%|██████████████████████████████████████████████████████████████████████████████████████████| 10/10 [00:00<?, ?it/s]\n"
     ]
    }
   ],
   "source": [
    "# Create figure\n",
    "\n",
    "x_coords, y_coords, z_coords = [], [], []\n",
    "\n",
    "total_itts = 366\n",
    "for r_val in tqdm(np.linspace(start=2.9, stop=4.0, num=total_itts, endpoint=False), total=total_itts):\n",
    "    \n",
    "    # generate new map with random start (x_0, and new r_val)\n",
    "    x=np.random.rand()\n",
    "    map_gen = LogisticMapGenerator(x=x, r=r_val, alphabet='ABCD', depth=6, ret_type='ternary', ret_history=3)\n",
    "    \n",
    "    data = set([ternary_to_cartesian(next(map_gen)) for _ in range(3000)])\n",
    "    _ = [(x_coords.append(vals[0]), y_coords.append(vals[1]), z_coords.append(r_val)) for vals in data]\n",
    "    \n",
    "equilateral_verticies = [ternary_to_cartesian(vertex) for vertex in [[1,0,0], [0,1,0], [0,0,1]]]\n",
    "equilateral_itts = 10\n",
    "for z_coord in tqdm(np.linspace(start=2.9, stop=4.0, num=equilateral_itts, endpoint=False), total=equilateral_itts):\n",
    "    for vertex in equilateral_verticies:\n",
    "        x_coords.append(vertex[0])\n",
    "        y_coords.append(vertex[1])\n",
    "        z_coords.append(z_coord)\n",
    "                      "
   ]
  },
  {
   "cell_type": "code",
   "execution_count": 7,
   "metadata": {},
   "outputs": [
    {
     "data": {
      "text/plain": [
       "'C:\\\\Users\\\\subst\\\\Projects\\\\GitBase\\\\Logistic-Map-Generator\\\\visualisations\\\\3D Ternary Scatter Plot [t=0, t=+1, t=+2] of Logistic Map.html'"
      ]
     },
     "execution_count": 7,
     "metadata": {},
     "output_type": "execute_result"
    }
   ],
   "source": [
    "fig = go.Figure(data=[go.Scatter3d({'mode': 'markers',\n",
    "                                    'x': x_coords,\n",
    "                                    'y': y_coords,\n",
    "                                    'z': z_coords,\n",
    "                                    'marker': {'symbol': 'circle',\n",
    "                                               'color': z_coords,\n",
    "                                               'colorscale' : 'viridis',\n",
    "                                               'size' : 1,\n",
    "                                               'opacity' : 0.6\n",
    "                                              }\n",
    "                                   }\n",
    "                                  )\n",
    "                     ]\n",
    "               )\n",
    "\n",
    "fig.update_layout({'autosize':False,\n",
    "                   'showlegend':False,\n",
    "                   'width':980,\n",
    "                   'height':980,\n",
    "                   'margin':go.layout.Margin(l=80,\n",
    "                                             r=80,\n",
    "                                             b=0,\n",
    "                                             t=0,\n",
    "                                             pad=0\n",
    "                                            ),\n",
    "                   'paper_bgcolor':'rgba(0,0,0,1.0)',\n",
    "                   'plot_bgcolor':'rgba(0,0,0,1.0)',\n",
    "                   'scene' : {'xaxis' : {'showbackground':False},\n",
    "                              'yaxis' : {'showbackground':False},\n",
    "                              'zaxis' : {'showbackground':False}\n",
    "                             }\n",
    "                  }\n",
    "                 )\n",
    "\n",
    "py.offline.plot(fig, filename=output_file,auto_open=False)"
   ]
  },
  {
   "cell_type": "code",
   "execution_count": null,
   "metadata": {},
   "outputs": [],
   "source": []
  }
 ],
 "metadata": {
  "kernelspec": {
   "display_name": "Python 3",
   "language": "python",
   "name": "python3"
  },
  "language_info": {
   "codemirror_mode": {
    "name": "ipython",
    "version": 3
   },
   "file_extension": ".py",
   "mimetype": "text/x-python",
   "name": "python",
   "nbconvert_exporter": "python",
   "pygments_lexer": "ipython3",
   "version": "3.7.4"
  }
 },
 "nbformat": 4,
 "nbformat_minor": 2
}
