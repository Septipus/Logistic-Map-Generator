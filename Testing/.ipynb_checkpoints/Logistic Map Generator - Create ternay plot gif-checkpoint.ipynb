{
 "cells": [
  {
   "cell_type": "code",
   "execution_count": 1,
   "metadata": {},
   "outputs": [
    {
     "name": "stdout",
     "output_type": "stream",
     "text": [
      "Saving imaged to dir: C:\\Users\\subst\\Projects\\GitBase\\Logistic-Map-Generator\\Testing\\images\n"
     ]
    }
   ],
   "source": [
    "import os\n",
    "from os.path import isfile, join\n",
    "\n",
    "import numpy as np\n",
    "\n",
    "import imageio as img\n",
    "from tqdm import tqdm\n",
    "\n",
    "from pprint import pprint\n",
    "import plotly as py\n",
    "import plotly.graph_objects as go\n",
    "\n",
    "if not os.path.exists('images'):\n",
    "    os.mkdir('images')\n",
    "    \n",
    "images_dir = os.getcwd() + '\\\\images'\n",
    "print(f'Saving imaged to dir: {images_dir}')\n",
    "\n",
    "os.chdir('../')\n",
    "if not os.path.exists('visualisations'):\n",
    "    os.mkdir('visualisations')\n",
    "\n",
    "visualisations_dir = os.getcwd() + '\\\\Visualisations'\n",
    "from Logistic_Map_Generator import LogisticMapGenerator"
   ]
  },
  {
   "cell_type": "code",
   "execution_count": 2,
   "metadata": {
    "scrolled": true
   },
   "outputs": [],
   "source": [
    "def makeAxis(title, tickangle):\n",
    "    return {\n",
    "      'title': title,\n",
    "      'titlefont': { 'size': 16 },\n",
    "      'tickangle': tickangle,\n",
    "      'tickfont': { 'size': 12 },\n",
    "      'tickcolor': 'rgba(0,0,0,0)',\n",
    "      'ticklen': 50,\n",
    "      'showline': True,\n",
    "      'showgrid': True\n",
    "    }"
   ]
  },
  {
   "cell_type": "code",
   "execution_count": null,
   "metadata": {
    "scrolled": false
   },
   "outputs": [
    {
     "name": "stderr",
     "output_type": "stream",
     "text": [
      "  7%|█████▋                                                                           | 21/300 [03:31<45:20,  9.75s/it]"
     ]
    }
   ],
   "source": [
    "keys = ['x @ t = 0', 'x @ t = +1', 'x @ t = +2']\n",
    "total_itts = 300\n",
    "for idx, r_val in tqdm(enumerate(np.linspace(start=3.0, stop=4.0, num=total_itts, endpoint=False)), total=total_itts):\n",
    "    x=np.random.rand()\n",
    "    map_gen = LogisticMapGenerator(x=x, r=r_val, alphabet='ABCD', depth=6, ret_type='ternary', ret_history=3)\n",
    "    rawData = [{key:val for key,val in zip(keys, next(map_gen))} for _ in range(10000)]\n",
    "    fig = go.Figure(go.Scatterternary({\n",
    "        'mode': 'markers',\n",
    "        'a': [i for i in map(lambda x: x['x @ t = 0'], rawData)],\n",
    "        'b': [i for i in map(lambda x: x['x @ t = +1'], rawData)],\n",
    "        'c': [i for i in map(lambda x: x['x @ t = +2'], rawData)],\n",
    "        #'text': [i for i in map(lambda x: x['label'], rawData)],\n",
    "        'marker': {\n",
    "            'symbol': 100,\n",
    "            'color': '#DB7365',\n",
    "            'size':4,\n",
    "            'line': { 'width': 1 },\n",
    "            'opacity' : 0.625\n",
    "        }\n",
    "    }))\n",
    "\n",
    "    fig.add_trace(go.Scatterternary({'mode': 'markers',\n",
    "                                      'a': [1/3.],\n",
    "                                      'b': [1/3.],\n",
    "                                      'c': [1/3.],\n",
    "                                      'marker': {'symbol': 'triangle-up-open',\n",
    "                                                 'color': '#DB7365',\n",
    "                                                 'size':10,\n",
    "                                                 'line': { 'width': 2 }\n",
    "                                                }\n",
    "                                    }\n",
    "                                   )\n",
    "                 )\n",
    "\n",
    "    fig.update_layout({\n",
    "        'ternary': {\n",
    "            'sum': 1,\n",
    "            'aaxis': makeAxis('x@ t = 0', 0),\n",
    "            'baxis': makeAxis('x@<br>t = +1', 0),\n",
    "            'caxis': makeAxis('x@<br>t = +2', 0)\n",
    "        },\n",
    "        'annotations': [{\n",
    "          'showarrow': False,\n",
    "          'text': f'Ternary Plot [t=0, t=+1, t=+2] of Logistic Map for <br>r = {round(r_val, 5)}',\n",
    "            'x': 0.5,\n",
    "            'y': 0.98,\n",
    "            'font': { 'size': 16 },\n",
    "        }],\n",
    "        'autosize':False,\n",
    "        'showlegend':False,\n",
    "        'width':1024,\n",
    "        'height':1024,\n",
    "        'margin':go.layout.Margin(\n",
    "            l=80,\n",
    "            r=80,\n",
    "            b=0,\n",
    "            t=0,\n",
    "            pad=0\n",
    "        ),\n",
    "        'paper_bgcolor':'rgba(0.95,0.95,0.95,1.0)',\n",
    "        'plot_bgcolor':'rgba(0.95,0.95,0.95,1.0)',\n",
    "    })\n",
    "    r_val_str = str(round(r_val, 5)).replace('.', '_')\n",
    "    fig.write_image(images_dir + f'\\\\{idx} - r_value = {r_val_str}.jpeg')"
   ]
  },
  {
   "cell_type": "code",
   "execution_count": null,
   "metadata": {},
   "outputs": [],
   "source": [
    "file_names = [file_name for file_name in os.listdir(images_dir)\n",
    "              if isfile(join(images_dir, file_name))\n",
    "             ]\n",
    "sorted(file_names, key=lambda name: int(name.split(' - ')[0]))\n",
    "file_names = [join(images_dir, file_name) for file_name in file_names]\n",
    "\n",
    "output_file = visualisations_dir + '\\\\Ternary Plot [t=0, t=+1, t=+2] of Logistic Map.gif'\n",
    "\n",
    "with img.get_writer(output_file, mode='I') as writer:\n",
    "    for file_name in file_names:\n",
    "        image = img.imread(file_name)\n",
    "        writer.append_data(image)"
   ]
  },
  {
   "cell_type": "code",
   "execution_count": null,
   "metadata": {},
   "outputs": [],
   "source": []
  }
 ],
 "metadata": {
  "kernelspec": {
   "display_name": "Python 3",
   "language": "python",
   "name": "python3"
  },
  "language_info": {
   "codemirror_mode": {
    "name": "ipython",
    "version": 3
   },
   "file_extension": ".py",
   "mimetype": "text/x-python",
   "name": "python",
   "nbconvert_exporter": "python",
   "pygments_lexer": "ipython3",
   "version": "3.7.4"
  }
 },
 "nbformat": 4,
 "nbformat_minor": 2
}
