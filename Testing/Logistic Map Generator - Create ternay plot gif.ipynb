{
 "cells": [
  {
   "cell_type": "code",
   "execution_count": 1,
   "metadata": {},
   "outputs": [
    {
     "name": "stdout",
     "output_type": "stream",
     "text": [
      "Saving imaged to dir: C:\\Users\\subst\\Projects\\GitBase\\Logistic-Map-Generator\\Testing\\images\n"
     ]
    }
   ],
   "source": [
    "import os\n",
    "from os.path import isfile, join\n",
    "\n",
    "import numpy as np\n",
    "\n",
    "import imageio as img\n",
    "from tqdm import tqdm\n",
    "\n",
    "from pprint import pprint\n",
    "import plotly as py\n",
    "import plotly.graph_objects as go\n",
    "\n",
    "if not os.path.exists('images'):\n",
    "    os.mkdir('images')\n",
    "    \n",
    "images_dir = os.getcwd() + '\\\\images'\n",
    "print(f'Saving imaged to dir: {images_dir}')\n",
    "\n",
    "os.chdir('../')\n",
    "if not os.path.exists('Visualisations'):\n",
    "    os.mkdir('Visualisations')\n",
    "\n",
    "visualisations_dir = os.getcwd() + '\\\\Visualisations'\n",
    "\n",
    "from Logistic_Map_Generator import LogisticMapGenerator"
   ]
  },
  {
   "cell_type": "code",
   "execution_count": 2,
   "metadata": {
    "scrolled": true
   },
   "outputs": [],
   "source": [
    "def get_labels(axis_num, tick_counts):\n",
    "    increments = np.linspace(0.0, 1.0, num=tick_counts+1, endpoint=True)\\\n",
    "                 if axis_num != 1\\\n",
    "                 else np.linspace(0.0, 1.0, num=tick_counts+1, endpoint=True)[::-1]\n",
    "    labels = np.array([[increments[idx],increments[-(1+idx)]]\n",
    "                     for idx in range(tick_counts+1)\n",
    "                    ]\n",
    "                   )\n",
    "    labels = np.round(np.insert(labels, axis_num, 0.0, axis=1),1)[:-1]\n",
    "    labels = [str(tuple(label)) for label in labels]\n",
    "    return labels\n",
    "\n",
    "def make_axis(title, axis_num, tick_angle, tick_counts):\n",
    "    return {'title': title,\n",
    "            'titlefont': { 'size': 10 },\n",
    "            'tickangle': tick_angle,\n",
    "            'tickfont': { 'size': 6 },\n",
    "            'tickcolor': 'rgba(0,0,0,0)',\n",
    "            'tickmode' : 'array',\n",
    "            'tickvals': [idx/tick_counts for idx in range(tick_counts)],\n",
    "            'ticktext': get_labels(axis_num=axis_num, tick_counts=tick_counts),\n",
    "            'ticklen': 50,\n",
    "            'showline': True,\n",
    "            'showgrid': True\n",
    "           }"
   ]
  },
  {
   "cell_type": "code",
   "execution_count": 5,
   "metadata": {},
   "outputs": [
    {
     "ename": "SyntaxError",
     "evalue": "invalid syntax (<ipython-input-5-7ef227094ac4>, line 50)",
     "output_type": "error",
     "traceback": [
      "\u001b[1;36m  File \u001b[1;32m\"<ipython-input-5-7ef227094ac4>\"\u001b[1;36m, line \u001b[1;32m50\u001b[0m\n\u001b[1;33m    'x': 0.5,\u001b[0m\n\u001b[1;37m       ^\u001b[0m\n\u001b[1;31mSyntaxError\u001b[0m\u001b[1;31m:\u001b[0m invalid syntax\n"
     ]
    }
   ],
   "source": [
    "keys = ['x @ t = 0', 'x @ t = +1', 'x @ t = +2']\n",
    "total_itts = 333\n",
    "for idx, r_val in tqdm(enumerate(np.linspace(start=3.0, stop=4.0, num=total_itts, endpoint=False)), total=total_itts):\n",
    "    \n",
    "    # generate new map with random start (x_0, and new r_val)\n",
    "    x=np.random.rand()\n",
    "    map_gen = LogisticMapGenerator(x=x, r=r_val, alphabet='ABCD', depth=6, ret_type='ternary', ret_history=3)\n",
    "    \n",
    "    # Extract data for 50000 points\n",
    "    # TODO: store data in a dictionary to be able to look up periodicity (key = ternary values)\n",
    "    rawData = [{key:val for key,val in zip(keys, next(map_gen))} for _ in range(50000)]\n",
    "    \n",
    "    # Create Figure\n",
    "    fig = go.Figure(go.Scatterternary({'mode': 'markers',\n",
    "                                       'a': [i for i in map(lambda x: x['x @ t = 0'], rawData)],\n",
    "                                       'b': [i for i in map(lambda x: x['x @ t = +1'], rawData)],\n",
    "                                       'c': [i for i in map(lambda x: x['x @ t = +2'], rawData)],\n",
    "                                       'marker': {'symbol': 100,\n",
    "                                                  'color': '#DB7365',\n",
    "                                                  'size':4,\n",
    "                                                  'line': { 'width': 1 },\n",
    "                                                  'opacity' : 0.625\n",
    "                                                 }\n",
    "                                      }\n",
    "                                     )\n",
    "                   )\n",
    "\n",
    "    # Add Equilateral Triangle Centroid -> Ternary [1/3, 1/3, 1/3] point\n",
    "    fig.add_trace(go.Scatterternary({'mode': 'markers',\n",
    "                                      'a': [1/3.],\n",
    "                                      'b': [1/3.],\n",
    "                                      'c': [1/3.],\n",
    "                                      'marker': {'symbol': 'triangle-up-open',\n",
    "                                                 'color': '#DB7365',\n",
    "                                                 'size':10,\n",
    "                                                 'line': { 'width': 2 }\n",
    "                                                }\n",
    "                                    }\n",
    "                                   )\n",
    "                 )\n",
    "\n",
    "    fig.update_layout({'ternary': {'sum': 1,\n",
    "                                   'aaxis': make_axis(title='x@ t = 0', axis_num=2, tick_angle=60, tick_counts=10),\n",
    "                                   'baxis': make_axis(title='x@<br>t = +1', axis_num=0, tick_angle=-60, tick_counts=10),\n",
    "                                   'caxis': make_axis(title='x@<br>t = +2', axis_num=1, tick_angle=0, tick_counts=10)\n",
    "                                  },\n",
    "                       'annotations': [{'showarrow': False,\n",
    "                                        'text': f'Ternary Plot f([t=0, t=+1, t=+2]) of Logistic Map for <br>r = {r_val:.4f}'\n",
    "                                        'x': 0.5,\n",
    "                                        'y': 0.98,\n",
    "                                        'font': { 'size': 14 }\n",
    "                                       }],\n",
    "                       'autosize':False,\n",
    "                       'showlegend':False,\n",
    "                       'width':768,\n",
    "                       'height':768,\n",
    "                       'margin':go.layout.Margin(l=80,\n",
    "                                                 r=80,\n",
    "                                                 b=0,\n",
    "                                                 t=0,\n",
    "                                                 pad=0\n",
    "                                                ),\n",
    "                       'paper_bgcolor':'rgba(0.95,0.95,0.95,1.0)',\n",
    "                       'plot_bgcolor':'rgba(0.95,0.95,0.95,1.0)'\n",
    "                      }\n",
    "                     )\n",
    "\n",
    "    # Save File\n",
    "    r_val_str = str(round(r_val, 5)).replace('.', '_')\n",
    "    fig.write_image(images_dir + f'\\\\{idx} - r_value = {r_val_str}.jpeg')"
   ]
  },
  {
   "cell_type": "code",
   "execution_count": 4,
   "metadata": {},
   "outputs": [],
   "source": [
    "# Get file_names\n",
    "file_names = [file_name for file_name in os.listdir(images_dir)\n",
    "              if isfile(join(images_dir, file_name))\n",
    "             ]\n",
    "# Sort file_names (by frame number) to guarantee order\n",
    "file_names = {int(file_name.split(' - ')[0]): join(images_dir, file_name)\n",
    "              for file_name in file_names\n",
    "             }\n",
    "# get ordered file_names\n",
    "file_names = [file_names[idx] for idx in range(len(file_names))]\n",
    "\n",
    "#set output file (.gif)\n",
    "output_file = visualisations_dir + '\\\\Ternary Plot [t=0, t=+1, t=+2] of Logistic Map.gif'\n",
    "\n",
    "# Create gif with imageio\n",
    "with img.get_writer(output_file, mode='I') as writer:\n",
    "    for file_name in file_names:\n",
    "        image = img.imread(file_name)\n",
    "        writer.append_data(image)"
   ]
  }
 ],
 "metadata": {
  "kernelspec": {
   "display_name": "Python 3",
   "language": "python",
   "name": "python3"
  },
  "language_info": {
   "codemirror_mode": {
    "name": "ipython",
    "version": 3
   },
   "file_extension": ".py",
   "mimetype": "text/x-python",
   "name": "python",
   "nbconvert_exporter": "python",
   "pygments_lexer": "ipython3",
   "version": "3.7.4"
  }
 },
 "nbformat": 4,
 "nbformat_minor": 2
}
