{
 "cells": [
  {
   "cell_type": "code",
   "execution_count": 1,
   "metadata": {},
   "outputs": [
    {
     "name": "stdout",
     "output_type": "stream",
     "text": [
      "Saving to visualisations dir: C:\\Users\\subst\\Projects\\GitBase\\Logistic-Map-Generator\\Visualisations\n"
     ]
    }
   ],
   "source": [
    "import os\n",
    "from os.path import isfile, join\n",
    "\n",
    "import numpy as np\n",
    "\n",
    "from tqdm import tqdm\n",
    "\n",
    "from pprint import pprint\n",
    "import plotly as py\n",
    "import plotly.graph_objects as go\n",
    "\n",
    "os.chdir('../')\n",
    "if not os.path.exists('visualisations'):\n",
    "    os.mkdir('visualisations')\n",
    "\n",
    "visualisations_dir = os.getcwd() + '\\\\Visualisations'\n",
    "print(f'Saving to visualisations dir: {visualisations_dir}')\n",
    "from Logistic_Map_Generator import LogisticMapGenerator"
   ]
  },
  {
   "cell_type": "code",
   "execution_count": 2,
   "metadata": {
    "scrolled": true
   },
   "outputs": [],
   "source": [
    "def get_labels(axis_num, tick_counts):\n",
    "    increments = np.linspace(0.0, 1.0, num=tick_counts+1, endpoint=True)\\\n",
    "                 if axis_num != 1\\\n",
    "                 else np.linspace(0.0, 1.0, num=tick_counts+1, endpoint=True)[::-1]\n",
    "    labels = np.array([[increments[idx],increments[-(1+idx)]]\n",
    "                     for idx in range(tick_counts+1)\n",
    "                    ]\n",
    "                   )\n",
    "    labels = np.round(np.insert(labels, axis_num, 0.0, axis=1),1)[:-1]\n",
    "    labels = [str(tuple(label)) for label in labels]\n",
    "    return labels\n",
    "\n",
    "def make_axis(title, axis_num, tick_angle, tick_counts):\n",
    "    return {'title': title,\n",
    "            'titlefont': { 'size': 10 },\n",
    "            'tickangle': tick_angle,\n",
    "            'tickfont': { 'size': 6 },\n",
    "            'tickcolor': 'rgba(0,0,0,0)',\n",
    "            'tickmode' : 'array',\n",
    "            'tickvals': [idx/tick_counts for idx in range(tick_counts)],\n",
    "            'ticktext': get_labels(axis_num=axis_num, tick_counts=tick_counts),\n",
    "            'ticklen': 50,\n",
    "            'showline': True,\n",
    "            'showgrid': True\n",
    "           }"
   ]
  },
  {
   "cell_type": "code",
   "execution_count": 3,
   "metadata": {},
   "outputs": [],
   "source": [
    "output_file = visualisations_dir + '\\\\Ternary Plot [t=0, t=+1, t=+2] of Logistic Map.html'"
   ]
  },
  {
   "cell_type": "code",
   "execution_count": 4,
   "metadata": {},
   "outputs": [
    {
     "name": "stderr",
     "output_type": "stream",
     "text": [
      "100%|██████████████████████████████████████████████████████████████████████████████████| 99/99 [10:31<00:00,  6.38s/it]\n"
     ]
    },
    {
     "data": {
      "text/plain": [
       "'C:\\\\Users\\\\subst\\\\Projects\\\\GitBase\\\\Logistic-Map-Generator\\\\Visualisations\\\\Ternary Plot [t=0, t=+1, t=+2] of Logistic Map.html'"
      ]
     },
     "execution_count": 4,
     "metadata": {},
     "output_type": "execute_result"
    }
   ],
   "source": [
    "# Create figure\n",
    "fig = go.Figure()\n",
    "\n",
    "keys = ['x @ t = 0', 'x @ t = +1', 'x @ t = +2']\n",
    "total_itts = 99\n",
    "for idx, r_val in tqdm(enumerate(np.linspace(start=3.0, stop=4.0, num=total_itts, endpoint=False)), total=total_itts):\n",
    "    \n",
    "    # generate new map with random start (x_0, and new r_val)\n",
    "    x=np.random.rand()\n",
    "    map_gen = LogisticMapGenerator(x=x, r=r_val, alphabet='ABCD', depth=6, ret_type='ternary', ret_history=3)\n",
    "    \n",
    "    rawData = [{key:val for key,val in zip(keys, next(map_gen))} for _ in range(10000)]\n",
    "    \n",
    "    fig.add_trace(go.Scatterternary({'mode': 'markers',\n",
    "                                     'a': [i for i in map(lambda x: x['x @ t = 0'], rawData)],\n",
    "                                     'b': [i for i in map(lambda x: x['x @ t = +1'], rawData)],\n",
    "                                     'c': [i for i in map(lambda x: x['x @ t = +2'], rawData)],\n",
    "                                     'name': r_val,\n",
    "                                     'marker': {'symbol': 100,\n",
    "                                                'color': '#DB7365',\n",
    "                                                'size':2,\n",
    "                                                'line': { 'width': 1 }\n",
    "                                               }\n",
    "                                    }\n",
    "                                   )\n",
    "                 )\n",
    "\n",
    "# Make 0th trace visible\n",
    "fig.data[0].visible = True\n",
    "\n",
    "# Create and add slider\n",
    "steps = []\n",
    "for i in range(len(fig.data)):\n",
    "    step = dict(\n",
    "        method=\"restyle\",\n",
    "        args=[\"visible\", [False] * len(fig.data)],\n",
    "    )\n",
    "    #step[\"args\"][1][i] = True  # Toggle i'th trace to \"visible\"\n",
    "    steps.append(step)\n",
    "\n",
    "sliders = [dict(\n",
    "    active=0,\n",
    "    currentvalue={\"prefix\": \"r-value: \"},\n",
    "    pad={\"t\": 50},\n",
    "    steps=steps\n",
    ")]\n",
    "\n",
    "fig.update_layout({'ternary': {'sum': 1,\n",
    "                               'aaxis': make_axis(title='x@ t = 0', axis_num=2, tick_angle=60, tick_counts=10),\n",
    "                               'baxis': make_axis(title='x@<br>t = +1', axis_num=0, tick_angle=-60, tick_counts=10),\n",
    "                               'caxis': make_axis(title='x@<br>t = +2', axis_num=1, tick_angle=0, tick_counts=10)\n",
    "                              },\n",
    "                   'annotations': [{'showarrow': False,\n",
    "                                    'text': 'Simple Ternary Plot with Markers',\n",
    "                                    'x': 0.5,\n",
    "                                    'y': 1.3,\n",
    "                                    'font': { 'size': 15 }\n",
    "                                   }],\n",
    "                   'autosize':False,\n",
    "                   'showlegend':False,\n",
    "                   'width':980,\n",
    "                   'height':980,\n",
    "                   'margin':go.layout.Margin(l=80,\n",
    "                                             r=80,\n",
    "                                             b=0,\n",
    "                                             t=0,\n",
    "                                             pad=0\n",
    "                                            ),\n",
    "                   'paper_bgcolor':'rgba(0,0,0,1.0)',\n",
    "                   'plot_bgcolor':'rgba(0,0,0,1.0)',\n",
    "                   'sliders':sliders\n",
    "                  }\n",
    "                 )\n",
    "\n",
    "py.offline.plot(fig, filename=output_file,auto_open=False)"
   ]
  }
 ],
 "metadata": {
  "kernelspec": {
   "display_name": "Python 3",
   "language": "python",
   "name": "python3"
  },
  "language_info": {
   "codemirror_mode": {
    "name": "ipython",
    "version": 3
   },
   "file_extension": ".py",
   "mimetype": "text/x-python",
   "name": "python",
   "nbconvert_exporter": "python",
   "pygments_lexer": "ipython3",
   "version": "3.7.4"
  }
 },
 "nbformat": 4,
 "nbformat_minor": 2
}
